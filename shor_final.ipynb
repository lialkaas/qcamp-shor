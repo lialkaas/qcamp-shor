{
 "cells": [
  {
   "cell_type": "markdown",
   "metadata": {},
   "source": [
    "# Shor's Algorithm"
   ]
  },
  {
   "cell_type": "code",
   "execution_count": 1,
   "metadata": {},
   "outputs": [],
   "source": [
    "from qiskit import QuantumRegister, ClassicalRegister\n",
    "from qiskit import QuantumCircuit, execute, Aer, IBMQ\n",
    "from qiskit.tools.visualization import plot_histogram\n",
    "from qiskit.providers.ibmq import least_busy"
   ]
  },
  {
   "cell_type": "code",
   "execution_count": 2,
   "metadata": {},
   "outputs": [],
   "source": [
    "# load IBM Q account\n",
    "IBMQ.load_accounts()"
   ]
  },
  {
   "cell_type": "code",
   "execution_count": 3,
   "metadata": {},
   "outputs": [],
   "source": [
    "def power_factor(N):\n",
    "    if N % 2 == 0:\n",
    "        factors_lst.append(2)\n",
    "        N = int(N/2)\n",
    "    digit_sum = 0\n",
    "    N_str = str(N)\n",
    "    for digit in N_str:\n",
    "        digit_sum += int(digit)\n",
    "    if digit_sum % 3 == 0:\n",
    "        factors_lst.append(3)\n",
    "        N = int(N/3)\n",
    "    if N_str[-1] == 5 or N_str[-1] == 0 or N == 5:\n",
    "        factors_lst.append(5)\n",
    "        N = int(N/5)\n",
    "    return N\n",
    "def period_func(val):\n",
    "    a_list = [] # list with a-s of primes**power\n",
    "    for power in range(power_limit):\n",
    "        modulo = val**power % N\n",
    "        if modulo not in a_list:\n",
    "            a_list.append(modulo)\n",
    "        else:\n",
    "            period = len(a_list)\n",
    "            return period\n",
    "            break\n",
    "def gcd_func():\n",
    "    periods_lst = [] # list with period of primes\n",
    "    gcd_lst = [] # list with index [0] as prime and values [gcd-, gcd+] as index [1,2]\n",
    "    for val in primes:\n",
    "        period = period_func(val)\n",
    "        try:\n",
    "            if period % 2 == 0:\n",
    "                    gcd_min = np.gcd(N,val**(int(period/2))-1)\n",
    "                    gcd_plus = np.gcd(N,(val**(int(period/2))+1))\n",
    "                    gcd_lst.append([gcd_min, gcd_plus])\n",
    "        except:\n",
    "            #print(\"Unable to parse Integer. Try later.\")\n",
    "            break\n",
    "    return gcd_lst\n",
    "\n",
    "def check_factor(N):\n",
    "    gcd_lst = gcd_func()\n",
    "    #print(gcd_lst)\n",
    "    for row in gcd_lst:\n",
    "        p = row[0]\n",
    "        q = row[1]\n",
    "        product = p*q\n",
    "        if product == N and p != N and q != N:\n",
    "            factors_lst.append(p)\n",
    "            factors_lst.append(q)\n",
    "            break"
   ]
  },
  {
   "cell_type": "code",
   "execution_count": 4,
   "metadata": {},
   "outputs": [],
   "source": [
    "def circuit(a):\n",
    "    \"Function assigns dedicated qc circuit to the factor a\"\n",
    "    global q, c, qc\n",
    "    q = QuantumRegister(4)\n",
    "    c = ClassicalRegister(4)\n",
    "    qc = QuantumCircuit(q, c)\n",
    "    if a == 2: # bin 10\n",
    "        qc.x(q[0])\n",
    "        qc.cx(q[0],q[1])\n",
    "        qc.x(q[0])\n",
    "        qc.measure(q, c)\n",
    "\n",
    "    elif a == 3: # bin 11\n",
    "        qc.x(q[0])\n",
    "        qc.cx(q[0],q[1])\n",
    "        qc.measure(q, c)\n",
    "        qc.x(q[1])\n",
    "    elif a == 5: # bin 101\n",
    "        qc.x(q[0])\n",
    "        qc.cx(q[0],q[2])\n",
    "        qc.measure(q, c)\n",
    "\n",
    "    elif a == 7: # bin 111\n",
    "        qc.x(q[0])\n",
    "        qc.cx(q[0],q[1])\n",
    "        qc.cx(q[0],q[2])\n",
    "        qc.measure(q, c)\n",
    "    \n",
    "def execute_job(device):\n",
    "    global data\n",
    "    backend = Aer.get_backend(device)\n",
    "    job_sim = execute(qc, backend)\n",
    "    sim_result = job_sim.result()\n",
    "    data = sim_result.get_counts(qc)\n",
    "    print(data)"
   ]
  },
  {
   "cell_type": "code",
   "execution_count": 28,
   "metadata": {
    "scrolled": true
   },
   "outputs": [
    {
     "name": "stdout",
     "output_type": "stream",
     "text": [
      "Factors in binary:\n",
      "{'0010': 1024}\n",
      "{'0011': 1024}\n",
      "{'0101': 1024}\n",
      "\n",
      "Most likely, factors of 30 are:\n",
      "2\n",
      "3\n",
      "5\n"
     ]
    }
   ],
   "source": [
    "# define global variables\n",
    "N = 30 # the input integer\n",
    "primes = [2,3,5,7]\n",
    "power_limit = 20 # the limit of power for prime number p**k\n",
    "factors_lst = []\n",
    "device = 'qasm_simulator'\n",
    "\n",
    "# main\n",
    "try:\n",
    "    N_new = power_factor(N)\n",
    "    if N_new in primes:\n",
    "        factors_lst.append(N_new)\n",
    "    #print(N_new, factors_lst)\n",
    "    check_factor(N_new)\n",
    "\n",
    "    factors_set = set(factors_lst)\n",
    "    factors_lst_unique = list(factors_set)\n",
    "\n",
    "    # run circuit\n",
    "    sim_result_dict = {}\n",
    "    print(\"Factors in binary:\")\n",
    "    for i in factors_lst_unique:\n",
    "        circuit(i)\n",
    "        execute_job(device)\n",
    "        # append master dictionary with results\n",
    "        for key,val in data.items():\n",
    "            sim_result_dict[key] = val\n",
    "\n",
    "    print(\"\\nMost likely, factors of {} are:\".format(N))\n",
    "\n",
    "    for i in factors_lst_unique:\n",
    "        print(\"{}\".format(i))\n",
    "    \n",
    "except:\n",
    "    print('The exception occured: a) input is prime integer > 7 OR b) the input out of range (Nmax > 49)')\n"
   ]
  },
  {
   "cell_type": "code",
   "execution_count": 29,
   "metadata": {},
   "outputs": [
    {
     "data": {
      "image/png": "[encoded data removed]",
      "text/plain": [
       "<Figure size 504x360 with 1 Axes>"
      ]
     },
     "execution_count": 29,
     "metadata": {},
     "output_type": "execute_result"
    }
   ],
   "source": [
    "# plot results\n",
    "plot_histogram(sim_result_dict)"
   ]
  },
  {
   "cell_type": "code",
   "execution_count": null,
   "metadata": {},
   "outputs": [
    {
     "name": "stdout",
     "output_type": "stream",
     "text": [
      "The least busy device: ibmqx4\n"
     ]
    }
   ],
   "source": [
    "# run on real QC\n",
    "#from qiskit.tools.jupyter import *\n",
    "#%%qiskit_job_status\n",
    "\n",
    "# define the least busy device\n",
    "backend = least_busy(IBMQ.backends(simulator=False))\n",
    "print(\"The least busy device:\",backend.name())\n",
    "\n",
    "# run circuit\n",
    "sim_result_dict = {}\n",
    "\n",
    "for i in factors_lst_unique:\n",
    "    circuit(i)\n",
    "    data = execute(qc, backend=backend, shots=1024, max_credits=3).result().get_counts(qc)\n",
    "    # append master dictionary with results\n",
    "    for key,val in data.items():\n",
    "        sim_result_dict[key] = val\n",
    "\n",
    "# display results\n",
    "print(\"Factors in binary:\")\n",
    "print(sim_result_dict)\n",
    "plot_histogram(sim_result_dict)"
   ]
  }
 ],
 "metadata": {
  "kernelspec": {
   "display_name": "Python (Qiskitenv)",
   "language": "python",
   "name": "qiskitenv"
  },
  "language_info": {
   "codemirror_mode": {
    "name": "ipython",
    "version": 3
   },
   "file_extension": ".py",
   "mimetype": "text/x-python",
   "name": "python",
   "nbconvert_exporter": "python",
   "pygments_lexer": "ipython3",
   "version": "3.7.2"
  }
 },
 "nbformat": 4,
 "nbformat_minor": 2
}
